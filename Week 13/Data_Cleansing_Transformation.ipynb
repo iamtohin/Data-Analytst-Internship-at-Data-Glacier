{
 "cells": [
  {
   "cell_type": "markdown",
   "metadata": {},
   "source": [
    "### Team Member Details\n",
    "- **Group Name**: Data Explorer\n",
    "- **Members**:\n",
    "  - Name: Mohammad Tohin Bapari, Email:tohin@gmx.de, Country:Germany, University:Bergische Universität Wuppertal, Specialization: Data Science\n",
    "  "
   ]
  },
  {
   "cell_type": "markdown",
   "metadata": {},
   "source": [
    "### Problem Description\n",
    "The dataset provided contains various attributes related to patients and their persistency flag, which indicates whether a patient was persistent or non-persistent in their treatment. The goal is to clean and transform this dataset to handle missing values and outliers effectively.\n"
   ]
  },
  {
   "cell_type": "markdown",
   "metadata": {},
   "source": [
    "### GitHub Repo Link\n",
    "https://github.com/iamtohin/Data-Analytst-Internship-at-Data-Glacier/tree/main/Week%209\n"
   ]
  },
  {
   "cell_type": "markdown",
   "metadata": {},
   "source": [
    "### Data Cleansing and Transformation\n",
    "\n",
    "#### Step 1: Handling Missing Values\n",
    "We will use two techniques to handle missing values: \n",
    "1. Imputation using the mean/median/mode.\n",
    "2. Model-based imputation.\n",
    "\n",
    "#### Step 2: Handling Outliers\n",
    "We will use the following techniques to handle outliers:\n",
    "1. Interquartile Range (IQR) method.\n",
    "2. Z-score method.\n",
    "\n",
    "### Code Implementation\n",
    "\n",
    "#### Handling Missing Values\n",
    "\n",
    "```python\n",
    "import pandas as pd\n",
    "from sklearn.impute import SimpleImputer\n",
    "\n",
    "# Load the dataset\n",
    "file_path = 'Healthcare_dataset.xlsx'\n",
    "data = pd.read_excel(file_path, sheet_name='Dataset')\n",
    "\n",
    "# Identify missing values\n",
    "missing_values = data.isnull().sum()\n",
    "\n",
    "# Handle missing values using mean/median/mode imputation\n",
    "imputer_mean = SimpleImputer(strategy='mean')\n",
    "imputer_mode = SimpleImputer(strategy='most_frequent')\n",
    "\n",
    "# Numerical columns\n",
    "num_cols = data.select_dtypes(include=['float64', 'int64']).columns\n",
    "data[num_cols] = imputer_mean.fit_transform(data[num_cols])\n",
    "\n",
    "# Categorical columns\n",
    "cat_cols = data.select_dtypes(include=['object']).columns\n",
    "data[cat_cols] = imputer_mode.fit_transform(data[cat_cols])\n",
    "\n",
    "# Verify if all missing values are handled\n",
    "missing_values_after_imputation = data.isnull().sum()\n",
    "print(missing_values_after_imputation)\n",
    "```\n",
    "\n",
    "#### Handling Outliers\n",
    "\n",
    "```python\n",
    "import numpy as np\n",
    "\n",
    "# Handling outliers using IQR method\n",
    "Q1 = data[num_cols].quantile(0.25)\n",
    "Q3 = data[num_cols].quantile(0.75)\n",
    "IQR = Q3 - Q1\n",
    "\n",
    "# Removing outliers\n",
    "data = data[~((data[num_cols] < (Q1 - 1.5 * IQR)) |(data[num_cols] > (Q3 + 1.5 * IQR))).any(axis=1)]\n",
    "\n",
    "# Handling outliers using Z-score method\n",
    "from scipy import stats\n",
    "\n",
    "z_scores = np.abs(stats.zscore(data[num_cols]))\n",
    "data = data[(z_scores < 3).all(axis=1)]\n",
    "\n",
    "# Verify the data after handling outliers\n",
    "print(data.shape)\n",
    "```\n"
   ]
  },
  {
   "cell_type": "code",
   "execution_count": null,
   "metadata": {},
   "outputs": [],
   "source": []
  }
 ],
 "metadata": {
  "kernelspec": {
   "display_name": "Python 3 (ipykernel)",
   "language": "python",
   "name": "python3"
  },
  "language_info": {
   "codemirror_mode": {
    "name": "ipython",
    "version": 3
   },
   "file_extension": ".py",
   "mimetype": "text/x-python",
   "name": "python",
   "nbconvert_exporter": "python",
   "pygments_lexer": "ipython3",
   "version": "3.12.4"
  }
 },
 "nbformat": 4,
 "nbformat_minor": 4
}
